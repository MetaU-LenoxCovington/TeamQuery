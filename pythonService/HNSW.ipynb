{
 "cells": [
  {
   "cell_type": "code",
   "execution_count": 1,
   "id": "f17cac01-3610-4cec-8738-d3d1f537c565",
   "metadata": {},
   "outputs": [
    {
     "name": "stderr",
     "output_type": "stream",
     "text": [
      "[nltk_data] Error loading punkt_tab: <urlopen error [SSL:\n",
      "[nltk_data]     CERTIFICATE_VERIFY_FAILED] certificate verify failed:\n",
      "[nltk_data]     unable to get local issuer certificate (_ssl.c:1010)>\n",
      "2025-07-17 15:24:17,002 | INFO | Loading KenLM 5-gram model...\n",
      "2025-07-17 15:24:17,003 | INFO | Using cached HuggingFace KenLM model: app/models/models--BramVanroy--kenlm_wikipedia_en/snapshots/744f3005d30510c09ae7302baf62d3cdc0a2bdec/wiki_en_token.arpa.bin\n",
      "2025-07-17 15:24:20,069 | INFO | KenLM model loaded successfully.\n",
      "2025-07-17 15:24:20,069 | INFO | Loading spaCy model...\n",
      "2025-07-17 15:24:20,270 | INFO | spaCy model loaded successfully.\n",
      "2025-07-17 15:24:20,271 | INFO | Loading SymSpell model...\n",
      "2025-07-17 15:24:20,659 | INFO | SymSpell model loaded successfully.\n"
     ]
    }
   ],
   "source": [
    "from app.services.document_conversion_service import document_conversion_service\n",
    "from app.services.chunking_service import chunking_service\n",
    "from app.services.context_generation_service import context_generation_service\n",
    "from app.services.embedding_service import embedding_service\n",
    "from app.services.metadata_extraction_service import metadata_extraction_service\n",
    "from app.services.text_cleaning_service import get_text_cleaning_service\n",
    "from app.search_indexes.hnsw import HNSWBuilder"
   ]
  },
  {
   "cell_type": "code",
   "execution_count": 2,
   "id": "f2e6dd28-c0c6-4b6c-94b9-7ec53450769e",
   "metadata": {},
   "outputs": [
    {
     "name": "stderr",
     "output_type": "stream",
     "text": [
      "2025-07-17 15:24:20,670 | INFO | Processing document: test_data/House Rules.pdf\n",
      "2025-07-17 15:24:20,673 | INFO | detected formats: [<InputFormat.PDF: 'pdf'>]\n",
      "2025-07-17 15:24:20,712 | INFO | Going to convert document batch...\n",
      "2025-07-17 15:24:20,712 | INFO | Initializing pipeline for StandardPdfPipeline with options hash 0bc13843d63324263b53bf2972b9f09a\n",
      "2025-07-17 15:24:20,732 | INFO | Loading plugin 'docling_defaults'\n",
      "2025-07-17 15:24:20,734 | INFO | Registered ocr engines: ['easyocr', 'ocrmac', 'rapidocr', 'tesserocr', 'tesseract']\n",
      "2025-07-17 15:24:20,917 | INFO | Accelerator device: 'mps'\n",
      "2025-07-17 15:24:20,919 - OrtInferSession - WARNING: DirectML is only supported in Windows OS. The current OS is Darwin. Use CoreMLExecutionProvider inference by default.\n",
      "2025-07-17 15:24:20,919 | WARNING | DirectML is only supported in Windows OS. The current OS is Darwin. Use CoreMLExecutionProvider inference by default.\n",
      "2025-07-17 15:24:20,957 - OrtInferSession - WARNING: DirectML is only supported in Windows OS. The current OS is Darwin. Use CoreMLExecutionProvider inference by default.\n",
      "2025-07-17 15:24:20,957 | WARNING | DirectML is only supported in Windows OS. The current OS is Darwin. Use CoreMLExecutionProvider inference by default.\n",
      "2025-07-17 15:24:20,972 - OrtInferSession - WARNING: DirectML is only supported in Windows OS. The current OS is Darwin. Use CoreMLExecutionProvider inference by default.\n",
      "2025-07-17 15:24:20,972 | WARNING | DirectML is only supported in Windows OS. The current OS is Darwin. Use CoreMLExecutionProvider inference by default.\n",
      "2025-07-17 15:24:21,026 | INFO | Accelerator device: 'mps'\n",
      "2025-07-17 15:24:21,831 | INFO | Accelerator device: 'mps'\n",
      "2025-07-17 15:24:22,270 | INFO | Loading plugin 'docling_defaults'\n",
      "2025-07-17 15:24:22,272 | INFO | Registered picture descriptions: ['vlm', 'api']\n",
      "2025-07-17 15:24:22,365 | INFO | Accelerator device: 'mps'\n",
      "2025-07-17 15:24:23,700 | INFO | Processing document House Rules.pdf\n",
      "2025-07-17 15:24:53,522 | INFO | Finished converting document House Rules.pdf in 32.85 sec.\n",
      "2025-07-17 15:24:53,535 | INFO | Successfully processed document with 17526 characters\n"
     ]
    }
   ],
   "source": [
    "from pathlib import Path\n",
    "text = document_conversion_service.process_document(Path(\"test_data/House Rules.pdf\"))"
   ]
  },
  {
   "cell_type": "code",
   "execution_count": null,
   "id": "a1b170c8-3c77-4586-af2e-1d765c841a35",
   "metadata": {},
   "outputs": [],
   "source": [
    "print(text)"
   ]
  },
  {
   "cell_type": "code",
   "execution_count": 3,
   "id": "33642497-1dd4-468a-9271-152fb0f572d5",
   "metadata": {},
   "outputs": [],
   "source": [
    "textCleaner = get_text_cleaning_service()"
   ]
  },
  {
   "cell_type": "code",
   "execution_count": 4,
   "id": "2003f25e-ec49-4c44-99ba-323ad703552f",
   "metadata": {},
   "outputs": [],
   "source": [
    "cleanedText = textCleaner.clean_document_with_placeholders(text)"
   ]
  },
  {
   "cell_type": "code",
   "execution_count": null,
   "id": "da5d0321-5722-4929-88d5-63517c01ddbf",
   "metadata": {},
   "outputs": [],
   "source": [
    "print(cleanedText)"
   ]
  },
  {
   "cell_type": "code",
   "execution_count": 5,
   "id": "2977ff85-504d-4071-b2de-f5afb81be46c",
   "metadata": {
    "scrolled": true
   },
   "outputs": [
    {
     "name": "stderr",
     "output_type": "stream",
     "text": [
      "2025-07-17 15:24:54,073 | INFO | Starting document chunking for text of length 17526\n",
      "2025-07-17 15:24:54,090 | INFO | Document complexity: 0.81, target chunk size: 300 words\n",
      "2025-07-17 15:24:54,091 | INFO | Created 7 initial chunks with target size 300 words\n",
      "2025-07-17 15:24:57,493 | INFO | HTTP Request: POST http://127.0.0.1:11434/api/chat \"HTTP/1.1 200 OK\"\n",
      "2025-07-17 15:24:57,498 | INFO | LLM chunking response: Based on the instructions and the document text, I suggest the following splits:\n",
      "\n",
      "split_after: 0, 1, 2, 3, 5\n",
      "2025-07-17 15:24:57,499 | INFO | Split after chunks: [0, 1, 2, 3, 5]\n",
      "2025-07-17 15:24:57,501 | INFO | Found 7 chunks\n",
      "2025-07-17 15:24:57,501 | INFO | Created 6 sections\n",
      "2025-07-17 15:24:57,502 | INFO | Successfully chunked document into 6 chunks\n"
     ]
    },
    {
     "name": "stdout",
     "output_type": "stream",
     "text": [
      "Total chunks: 6\n"
     ]
    }
   ],
   "source": [
    "chunks = await chunking_service.chunk_document(text)\n",
    "print(f\"Total chunks: {len(chunks)}\")"
   ]
  },
  {
   "cell_type": "code",
   "execution_count": 8,
   "id": "f32a5846-3f26-496c-8592-5083583dbd0c",
   "metadata": {},
   "outputs": [
    {
     "name": "stderr",
     "output_type": "stream",
     "text": [
      "2025-07-17 15:26:46,459 | INFO | Generating contexts for 6 chunks\n",
      "2025-07-17 15:26:46,460 | INFO | Processing chunk 1/6\n",
      "2025-07-17 15:26:51,851 | INFO | HTTP Request: POST http://127.0.0.1:11434/api/chat \"HTTP/1.1 200 OK\"\n",
      "2025-07-17 15:26:51,852 | INFO | Processing chunk 2/6\n",
      "2025-07-17 15:26:57,110 | INFO | HTTP Request: POST http://127.0.0.1:11434/api/chat \"HTTP/1.1 200 OK\"\n",
      "2025-07-17 15:26:57,115 | INFO | Processing chunk 3/6\n",
      "2025-07-17 15:27:01,425 | INFO | HTTP Request: POST http://127.0.0.1:11434/api/chat \"HTTP/1.1 200 OK\"\n",
      "2025-07-17 15:27:01,426 | INFO | Processing chunk 4/6\n",
      "2025-07-17 15:27:06,050 | INFO | HTTP Request: POST http://127.0.0.1:11434/api/chat \"HTTP/1.1 200 OK\"\n",
      "2025-07-17 15:27:06,052 | INFO | Processing chunk 5/6\n",
      "2025-07-17 15:27:15,064 | INFO | HTTP Request: POST http://127.0.0.1:11434/api/chat \"HTTP/1.1 200 OK\"\n",
      "2025-07-17 15:27:15,066 | INFO | Processing chunk 6/6\n",
      "2025-07-17 15:27:19,976 | INFO | HTTP Request: POST http://127.0.0.1:11434/api/chat \"HTTP/1.1 200 OK\"\n",
      "2025-07-17 15:27:19,978 | INFO | Successfully generated 6 contexts\n",
      "2025-07-17 15:27:19,978 | INFO | Created 6 contextualized chunks\n"
     ]
    }
   ],
   "source": [
    "chunks_with_context = await context_generation_service.create_contextualized_chunks(chunks, text)"
   ]
  },
  {
   "cell_type": "code",
   "execution_count": null,
   "id": "96409626-2d96-4f76-bc1a-0c48c2e4ed37",
   "metadata": {},
   "outputs": [],
   "source": [
    "print(chunks_with_context[3])"
   ]
  },
  {
   "cell_type": "code",
   "execution_count": 41,
   "id": "cb3aa45a-606b-4a33-8a0c-112007d0748a",
   "metadata": {},
   "outputs": [
    {
     "data": {
      "application/vnd.jupyter.widget-view+json": {
       "model_id": "ad408d396b1a4e8394e33483c2cb132e",
       "version_major": 2,
       "version_minor": 0
      },
      "text/plain": [
       "Batches:   0%|          | 0/1 [00:00<?, ?it/s]"
      ]
     },
     "metadata": {},
     "output_type": "display_data"
    }
   ],
   "source": [
    "embeddings = embedding_service.generate_embeddings_batch(chunks_with_context)"
   ]
  },
  {
   "cell_type": "code",
   "execution_count": 43,
   "id": "b6fa4311-2f0e-4491-88d8-50de56a04c6f",
   "metadata": {},
   "outputs": [],
   "source": [
    "metadata_list = []\n",
    "for i, chunk in enumerate(chunks):\n",
    "    #context = contexts[i] if i < len(contexts) else \"\"\n",
    "    #metadata = metadata_extraction_service.extract_metadata(chunk, context)\n",
    "    metadata = {\n",
    "            \"keywords\": [],\n",
    "            \"topics\": [],\n",
    "            \"entities\": [],\n",
    "            \"document_type\": \"unknown\"\n",
    "        }\n",
    "    # Optionally, add extra fields, e.g., for HNSW filtering\n",
    "    metadata['chunk_index'] = i\n",
    "    metadata_list.append(metadata)"
   ]
  },
  {
   "cell_type": "code",
   "execution_count": 16,
   "id": "169808cf-a949-4937-b5d8-80fda1384804",
   "metadata": {},
   "outputs": [],
   "source": [
    "from uuid import uuid4\n",
    "\n",
    "document_id = str(uuid4())\n",
    "chunk_ids = [f\"{document_id}_chunk_{i}\" for i in range(len(chunks_with_context))]\n",
    "document_ids = [document_id] * len(chunks_with_context)"
   ]
  },
  {
   "cell_type": "code",
   "execution_count": 44,
   "id": "1d2b7aba-97b1-448b-9d3b-13100b97b1d1",
   "metadata": {},
   "outputs": [
    {
     "name": "stderr",
     "output_type": "stream",
     "text": [
      "2025-07-17 17:29:25,268 | INFO | Building HNSW index for organization test-org with 6 vectors\n",
      "2025-07-17 17:29:25,271 | INFO | HNSW index construction complete. Added 6 nodes.\n"
     ]
    }
   ],
   "source": [
    "builder = HNSWBuilder(organization_id=\"test-org\", M=8, ef_construction=50, seed=42)\n",
    "index = builder.build_index(\n",
    "    vectors=embeddings,\n",
    "    chunk_ids=chunk_ids,\n",
    "    document_ids=document_ids,\n",
    "    metadata_list=metadata_list,\n",
    ")"
   ]
  },
  {
   "cell_type": "code",
   "execution_count": 45,
   "id": "a939ff04-4b9f-4a4e-9127-b93c77879796",
   "metadata": {},
   "outputs": [
    {
     "data": {
      "application/vnd.jupyter.widget-view+json": {
       "model_id": "b3f0d462cada48f194b9ee911efefb3b",
       "version_major": 2,
       "version_minor": 0
      },
      "text/plain": [
       "Batches:   0%|          | 0/1 [00:00<?, ?it/s]"
      ]
     },
     "metadata": {},
     "output_type": "display_data"
    },
    {
     "name": "stdout",
     "output_type": "stream",
     "text": [
      "Score: 0.434 | Chunk: 3. c)Only authorized storage sheds approved by the Board are allowed on the lanais.Unless hidden from sight by railingfabric,all other storageunitsarenot allowed withoutwritten approval fromtheBoard. <!-- page_break -->\n",
      "\n",
      "- 6)Plants.All plants shall be placed in containers with drip pans to prevent thedrippingofwaterorsoil ontoother apartmentsorthe common elements.Care should be taken in scrubbing lanais so astopreventwater fromrunningdown theexteriorof the building. - 7)Barbecuing.No fires orbarbecuing is permitted on any apartment lanai.Barbecuing ispermitted in the courtyard/patio areaorother areaspermittedby theBoardorManagingAgent. - 8)Throwing Objects from Building. Nothing shall be thrown from lanais,windows,entrancebalconies,etc.-Cigarettes and matches,specifically,arefirehazard.The throwingof firecrackers from lanaisand the explosionofanyfireworks anywhereon thegroundsorwithinthebuildingisprohibited\n",
      "- 9)Waterbeds.No waterbeds are permitted in the apartments. - 10) Cigarettes.Smoking isnotallowed in anycommon element areas.Cigarettes shall not be lit,extinguished or thrown in parking areas,corridors,stairways,sidewalks,groundsorother commonareas,norshallcigarettesorotheritemsbe thrownfrom anywindow,balcony,orlanaiofany apartment. - 11) Hazardous Materials. Residents shall not use on the premises, orbring on the premises,anyhazardousfluids,such as gasoline, kerosene,naphtha,benzene,orany explosive orarticles deemedespeciallyhazardoustopersonsorproperty.Individual exceptionsforsmall quantitiesmaybe arrangedby theBoardor ManagingAgent. ## 12) Maintenance ofApartments. - a)Everyownerfrom to time and atall timesshallperform promptly all repair,maintenanceand alterationworkwithin his apartment,theomissionofwhichwould adverselyaffect any commonelementoranyotherapartment,and shall be responsibleforall loss and damage causedbyhis failureto doso. <!-- page_break -->\n",
      "\n",
      "- b)Allrepairsand maintenanceofinternal installationswithin eachapartmentsuchaswater,light,power,sewage, telephone,air conditioning,sanitation,doors,windows, lamps,andallotherfixturesand accessoriesbelonging to such apartment,includinginteriorwall andpartitionsand the innerdecoratedorfinishedsurfacesof theperimeterwalls floors,and ceilings of such apartment shallbe at the owner's expense. - 13) Structural Changes.No structural changes of any type shall be permittedeitherwithinorwithoutanapartment,withoutprior written approval and consent of the Board orManaging Agentalso including anywindowsanddoors. ## 14) Maintenance Employees.\n",
      "- a)Themaintenanceemployeeswill useeveryefforttopolice the grounds effectively.Nonetheless,these employees are notavailableon24-hourdailybasis,andmuchbedevoted to maintenance andrepair.Accordingly,and in thepartand to usehisinfluenceon all membersofhishousehold todo their parttowardsabatingunsightlinesswithin theproject to the fullestpracticableextent. - b)MaintenanceemployeesoftheAssociationareunder the soledirectionof theBoard and/or theManagingAgent. During theprescribed hours ofworkthey shall in no case be diverted to theprivatebusinessoremploymentofany owner,occupantorguest.No employeeshall be asked by anownertoleavethecommonelements. - c)The Managing Agentshall not beresponsible forpersonal property or deliveries left in halls, service lockers, parking lot, office,atdoorsofapartmentsoranyotherplaceonthe premises,nor forany articleleftwith any employee. <!-- page_break -->\n",
      "\n",
      "- 15)Fire Eguipment.Anyone found tamperingwith the fire fighting equipmentwill besubjecttocriminal chargesand liableforall costs involved inrepairs,replacements,or damages caused to the building or personal property. lt is the responsibility for ownersand tenantstoinstall andmaintainsmokedetectorsand fire extinguishers toensure fire hazards arekept to a minimum insidetheapartment. ## F. PETS\n",
      "\n",
      "- 1)Permitted Pets.Only dogs,cats,fish and small birds may be kepton thepremises.Ownerand tenantsare limited toonepet. - 2)Breeding.Pets shall notbekept,bred orused for any commercialpurpose. - 3)Visitors.Visiting pets shall not be allowed on the premises. - 4)Exercise,etc.Petsshall notbe allowed outof the apartment or building unlessaccompaniedby theownerandon a leash(notto exceed four(4)feet inlength).Pets shall bewalked OFF THE PREMiSESoftheproject.Ownersshallcleanupaftertheirpets. - 5)Damage.Any personal injury orproperty damage to the apartmentbuildings,grounds,flooring,walls,trimfinish,tile stairs,orotherportionoftheprojectcausedbyapetwill bethe full responsibility of the owner.Any damage caused by cleaning, chemicals,orothersuchmaterialsused in theattempttoremedy damageisalsothefullresponsibilityofeachowner,whoshall pay thefull costofrestitution orremoval and/orreplacement of damageditems. - 6)Nuisance -Removal.Any pet which is a nuisance or causes unreasonabledisturbancetoanyresidentorcausesdamageto thebuildingorgroundsshallberemovedbythepet'sowneror occupantsof theapartmentinwhich thepetresidespromptly upon writtenrequest by the Board and/or the Managing Agent. Costsofboarding thepetshallbepaidbytheowner. RevisedandApproved by theBoardof DirectorsonFebruary 4,2008\n",
      "\n",
      "<!-- page_break -->\n",
      "\n",
      "## G. PARKINGAREAS\n",
      "\n",
      "- 1)Tenant'sParking.The apartmentowner shall advise the ManagingAgent inwriting of the typeofvehicle and license numberbeingusedby lesseeortenant....\n",
      "Keywords: []\n",
      "\n",
      "Score: 0.355 | Chunk: ## House Rules Of The\n",
      "\n",
      "## University Court A OAO\n",
      "\n",
      "In this image we can see a building with windows and balconies. We can also see a tree and a bicycle. We can also see the sky with clouds. In this image we can see a building with windows and balconies. We can also see a tree and a bicycle. We can also see the sky with clouds. <!-- page_break -->\n",
      "\n",
      "## HOUSERULESOFUNIVERSITYCOURT\n",
      "\n",
      "## A. TERMINOLOGY\n",
      "\n",
      "- 1)Agents.Any real estate broker,corporation,firm or individual empoweredtoactonbehalfofanyapartmentowner. - 2)Board.TheBoard ofDirectorsof theAssociation ofOwners. - 3)Bylaws.TheBylawsof the Association ofOwners,asamended fromtimetotime. - 4)Declaration.The Declaration of Horizontal Property Regime of thiscondominiumproject,asitmaybeamendedfrom time to time. - 5)Guest. A person who resides other than at the project,and visits thepremisesforaperiodof time atinvitation of aresident. - 6)ManagingAgent.A firmwhich maybeappointedand/or employeehired by theBoard tomanage theproject andwhose dutiesareoutlined intheBylaws. - 7)Owner.The person or person holding the Fee Simple title to an apartment and the common interest appertaining thereto aswell as thepurchaserofanapartmentpursuanttoanagreementof salerecorded theBureau ofConveyances. - 8)Person.An individual,firm,corporation,partnership orother legal entity. ## B. PURPOSEOFRULES\n",
      "\n",
      "- 1)Purpose. The primary purpose of these Rules is to protect all Occupants from annoyance and nuisance caused by improper useof the apartments and also toprotect the reputation and desirability of theprojectbyproviding maximum enjoymentof the premises. <!-- page_break -->\n",
      "\n",
      "- 2)Authority.Theauthority andresponsibility forenforcing these resideswith theBoardbut it maybe delegated to amanaging agent.All owners,occupants,tenants and theirguests shall be boundby theserulesandbystandardsofreasonableconduct whethercoveredbytheserulesornot;provided,however, neither the Board nor the Managing Agent shallberesponsible fornoncomplianceorviolationof therulesbyowners,occupants tenants or their guests.These Rulesmay be amended by the Board asprovided intheBylaws. ## C. OCCUPANCY\n",
      "\n",
      "- 1) Number.Occupancy is limited to not more than two personsper bedroomcontained in each apartment,exceptthatthis occupancymaybeexceededbymembersof theimmediate familyof theowner,tenantorlessee,provided thatinnoevent shall thenumberofoccupantsbemore than threepersons. 2. 2)UseofApartment....\n",
      "Keywords: []\n",
      "\n",
      "Score: 0.353 | Chunk: The apartments shall be occupied and used onlyasprivatedwellingsby therespectiveowners,theirtenants, families'domestic servants and personal guests. The parking spacesmayonlybe used asaparkingspace fora motorvehicle. thewrittenconsentof theBoard. - 3) AbsentOwners.An absent owner,at his expense,should have an agent,friendormaidwhetherunit isoccupied ornot,o conductperiodicinspections of the closed apartment and assumeresponsibilityfor thecontentsofthe apartment\n",
      "4. 4)Children.Anapartmentownershall beresponsiblefor the conductofhischildren atall times and insure thattheirbehavior is neither offensive to any occupant of the buildingnor damaging to anyportion of the common elements.Childrenwill not be the recreation(Patio) area. - 5) Moving. Save in exceptional circumstances and at the discretionoftheBoard,all movingshall beaccomplished between thehours of 8 a.m.and 7 p.m. <!-- page_break -->\n",
      "\n",
      "## 6) Noise. - a)Occupants shall not make orpermit their families,or theirguestsor inviteesto makenoisewhichwill unreasonably annoyorinterferewith the rights,comfort andconvenienceoftheotherapartmentoccupants. Excessivenoise orotherviolationsof theseRules shouldbeimmediatelyreportedtotheBoardandlor Managing Agent which will take appropriate action. Please donotbecome involvedwith theviolator. - b)Radios,televisions,hi-fi,conversations,etc.,mustbe played at reduced volume after 10p.m.to 8 a.m.\n",
      "- c)Noise caused by guests arriving and departing atnight mustbekepttoa minimum. - 7)Workman.Noworkmanwill be allowed in thebuildingbefore 8:00 a.m. or after 7:00 p.m., except in an emergency. - 8)Access. The Managing Agent is not required to give access to An apartment or the buildingwithout thewrittenpermission of an owner or occupant. - 9)Record of Occupants. Owners and occupants shall file their name,address and phone number and signaturewith the ManagingAgent uponpurchasing andlor taking occupancy of an apartment and shall furnish the Board or Managing Agent with suchotherreasonable information asshall berequested from time to time. ## D. RENTALS\n",
      "\n",
      "- 1)Notice.TheBoard shall be notified by the Owner or agent of the name and duration of stay of any tenant is allowed in any apartment. Revised andApprovedby theBoardofDirectorsonFebruary4,2008\n",
      "\n",
      "<!-- page_break -->\n",
      "\n",
      "- 2)Conduct....\n",
      "Keywords: []\n",
      "\n",
      "Score: 0.333 | Chunk: Residents,nonresidents owners,or agents who rent, loanorotherwisepermit occupancy of their apartments,shall conveya copyof theseRules to theoccupant.Theownershall beresponsiblefor the actions oromissions of his agent,tenants and conductof lessees. - 3) Tenants and Guests. An owner shall,upon request of the Board orManaging Agent,immediatelyabate andremove,at his expense,anystructure,thingorconditionthatmayexistwith regard to theoccupancyofhis apartmentbyhis tenantsor guests contrary to the interest and meaning of these Rules.If the owner isunable tocontrol theconduct,ofhistenantsorguests, he shall,upon requestof the Board orManaging Agent, immediatelyremovesuchtenantsorguestsfromthepremises, withoutcompensation for lostrentalsor anyotherdamage resulting there from. - 4)Appointmentof Local Agent.Ownersshall beresponsible for Designating a local agent torepresent theirinterest if their residentisoutsideofHawaiiorif theywill beabsentfrom the apartmentformore than thirty(30) days.Suchownersshall file with the Board or Managing Agent their out-of-town address and telephonenumberand theaddressand telephonenumberof their agent. ## E. COMMON AREA,LANAIS\n",
      "\n",
      "- 1)Solicitation.Soliciting of goods,services orreligious activities Shallnotbepermittedon thepremisesbyaresidentorother persons, except as approved by the Board or Managing Agent. - 2)Prohibited Activities. No activity shall be engaged in and no substance introduced into or manufactured within the building whichmightresult inviolationof thelawormayoverloador impair thestructural integrityof thebuildingorfacilitiesor in the cancellation of the insurance or increase in the insurancerate on thebuildingwithin theproject\n",
      "\n",
      "<!-- page_break -->\n",
      "\n",
      "- 3)PublicWays.The public sidewalks,lobbies,stairways, driveways, and passageways must not be obstructed or used for purposes other than ingress and egress -Items ofpersonal property,including baby carriages,shopping carts,bicycles, shoes,door mats,orplants,mopeds,motorcycles shall not be left or allowed to stand in anypart of the common elements or parkinglot.Items leftinviolation of thiswill beremoved at the riskandexpenseoftheowneratthedirectionof theBoardor Managing Agent....\n",
      "Keywords: []\n",
      "\n",
      "Score: 0.308 | Chunk: - 2)Workman andDeliveries.Whenworkman areperforming work onanapartmentorif theownerordersdeliveriesofanykind,the ownershall advisethem tousehisparkingstall orparkonthe street. - 3)Methodof Parking.Automobiles shall be centered inparking spacesso as topreventcrowdingof adjacentspace andlor blocking passages. - 4)GuestParking.It is theresponsibilityof theapartmentowners and tenantstoinform theirguestsnottopark invacantspaces, unlessarrangementshavebeen made for such use. - 5)Violations.Cars ofviolators ofparking regulations shall be towed away at their expense.lf theviolator is a lessee,tenant or guestof anowner,theownershall beresponsibleforpaymentof the towing charge. - 6)Washing Cars,etc.Owners and tenants washing,cleaning,or polishingvehicleson thepremisesshall clean the area thoroughlybeforeleavingand atno timeuseanyotherspace other than the designated area by the trash dumpster.Donot leaveyourvehicleunattendedorprevent trashpickup. - 7)Repairs,Storage.Extensive repairs ofa motorvehicle,boat, surfboard,orotherequipmentandstorageofpropertyshall not bepermitted intheparkingstalls. ## H. VIOLATIONSOFTHESERULES\n",
      "\n",
      "- 1)Observance of Rules.Each owner shall observe and perform these Rules and assure that his lessees,tenants,licensees and visitorsalso observe andperform these Rules.Ownerswill be responsible for theirlessees'orguests'observances of all Rules\n",
      "\n",
      "<!-- page_break -->\n",
      "\n",
      "assetforthherein.In theeventexpensesareincurreddue to violationsofRulesbylessees,guestsorlicensees,theowner shallberesponsibleforpaymentofsameincludingreasonable attorneys'fees. ## 2)ReportingViolation and Damages. - a)All corrective actionsregardingviolationsof theRules anddamagestothecommonelementsorcommonarea willbeenforcedbytheBoardandshouldbereported promptlyto theBoardor theManagingAgent\n",
      "- b)Damages tocommon elementsor common areasshall besurveyedby theBoardor theManagingAgentat the directionof theBoardandthecostofrepairor replacementand anylegal feesincurredmaybe assessedbytheBoardagainstownersoroccupantsfor damagescaused directlyor indirectlybytheirguests. - 3)TheViolation ofAnyHouseRulesAdoptedBy The AssociationofApartmentOwnersofUniversityCourtShall Give TheBoard of Directors orIt's AgentsRight To:\n",
      "- a)ENTERTHEAPARTMENTINWHICH,ORASTOWHICH, SUCHVIOLATIONORBREACHEXISTSANDTO SUMMARILYABATEANDREMOVEATTHEEXPENSE OFTHEDEFAULTINGAPARTMENTOWNER,ANY STRUCTURE,THINGORCONDITIONTHATMAYEXIST THEREINCONTRARYTOTHEINTENTANDMEANING OFTHEPROVISIONSHEREOF,ANDTHEBOARDOF DIRECTORSORTHEMANAGINGAGENTSHALLNOT THEREBYBEDEEMEDGUILTYINANYMANNEROF TRESPASS,AND/OR\n",
      "- b)TOENJOIN,ABATEORREMEDYBYAPPROPRIATE LEGALPROCEEDINGS,EITHERATLAWORINEQUITY, THECONTINUANCEOFANYSUCHBREACH,ANDALL COSTSTHEREOF,INCLUDINGATTORNEYS'FEES, SHALLBEBORNEBYTHEDEFAULTINGAPARTMENT OWNER....\n",
      "Keywords: []\n",
      "\n"
     ]
    }
   ],
   "source": [
    "query = \"Is there a limit to how many people can live in an apartment at University Court\"\n",
    "query_vec = embedding_service.generate_embedding(query)\n",
    "\n",
    "results = index.search(query_vec, k=5)\n",
    "for dist, node_id, chunk_id in results:\n",
    "    idx = chunk_ids.index(chunk_id)\n",
    "    print(f\"Score: {1-dist:.3f} | Chunk: {chunks[idx]}...\")\n",
    "    print(\"Keywords:\", metadata_list[idx].get(\"keywords\", []))\n",
    "    print()"
   ]
  },
  {
   "cell_type": "code",
   "execution_count": 23,
   "id": "34f5ce05-8bbf-4a83-80c9-1f1ec9918cfd",
   "metadata": {},
   "outputs": [],
   "source": [
    "from app.search_indexes.bm25 import BM25Index"
   ]
  },
  {
   "cell_type": "code",
   "execution_count": 28,
   "id": "f9b90806-3cae-4aca-b6cf-3d6ca42e992c",
   "metadata": {},
   "outputs": [],
   "source": [
    "bm25_index = BM25Index(organization_id='alkalskjdfh')"
   ]
  },
  {
   "cell_type": "code",
   "execution_count": 29,
   "id": "2a9868fc-231a-4c14-a85f-8e0d86014db0",
   "metadata": {},
   "outputs": [],
   "source": [
    "document_id = str(uuid4())\n",
    "chunk_tuples = [\n",
    "    (\n",
    "        f\"{document_id}_chunk_{i}\",   # chunk_id\n",
    "        chunk,                        # content (the chunk text)\n",
    "        document_id,                  # document_id\n",
    "        {}                            # metadata (add any fields if you want)\n",
    "    )\n",
    "    for i, chunk in enumerate(chunks_with_context)\n",
    "]"
   ]
  },
  {
   "cell_type": "code",
   "execution_count": 39,
   "id": "73d6bf3f-642c-4229-a248-4728e59d1ee1",
   "metadata": {},
   "outputs": [
    {
     "name": "stdout",
     "output_type": "stream",
     "text": [
      "<chunk_context>This section of the document outlines rules for the University Court condominium project, specifically focusing on the maintenance and upkeep of apartments, common areas, and parking spaces. It emphasizes the importance of responsible behavior and cleanliness, as well as the need for prior approval from the Board or Managing Agent for certain activities, such as installing storage sheds or using hazardous materials. The section also touches on the maintenance of apartments, including repairs and structural changes, as well as the responsibilities of owners and tenants.</chunk_context>\n",
      "<chunk>3. c)Only authorized storage sheds approved by the Board are allowed on the lanais.Unless hidden from sight by railingfabric,all other storageunitsarenot allowed withoutwritten approval fromtheBoard. <!-- page_break -->\n",
      "\n",
      "- 6)Plants.All plants shall be placed in containers with drip pans to prevent thedrippingofwaterorsoil ontoother apartmentsorthe common elements.Care should be taken in scrubbing lanais so astopreventwater fromrunningdown theexteriorof the building. - 7)Barbecuing.No fires orbarbecuing is permitted on any apartment lanai.Barbecuing ispermitted in the courtyard/patio areaorother areaspermittedby theBoardorManagingAgent. - 8)Throwing Objects from Building. Nothing shall be thrown from lanais,windows,entrancebalconies,etc.-Cigarettes and matches,specifically,arefirehazard.The throwingof firecrackers from lanaisand the explosionofanyfireworks anywhereon thegroundsorwithinthebuildingisprohibited\n",
      "- 9)Waterbeds.No waterbeds are permitted in the apartments. - 10) Cigarettes.Smoking isnotallowed in anycommon element areas.Cigarettes shall not be lit,extinguished or thrown in parking areas,corridors,stairways,sidewalks,groundsorother commonareas,norshallcigarettesorotheritemsbe thrownfrom anywindow,balcony,orlanaiofany apartment. - 11) Hazardous Materials. Residents shall not use on the premises, orbring on the premises,anyhazardousfluids,such as gasoline, kerosene,naphtha,benzene,orany explosive orarticles deemedespeciallyhazardoustopersonsorproperty.Individual exceptionsforsmall quantitiesmaybe arrangedby theBoardor ManagingAgent. ## 12) Maintenance ofApartments. - a)Everyownerfrom to time and atall timesshallperform promptly all repair,maintenanceand alterationworkwithin his apartment,theomissionofwhichwould adverselyaffect any commonelementoranyotherapartment,and shall be responsibleforall loss and damage causedbyhis failureto doso. <!-- page_break -->\n",
      "\n",
      "- b)Allrepairsand maintenanceofinternal installationswithin eachapartmentsuchaswater,light,power,sewage, telephone,air conditioning,sanitation,doors,windows, lamps,andallotherfixturesand accessoriesbelonging to such apartment,includinginteriorwall andpartitionsand the innerdecoratedorfinishedsurfacesof theperimeterwalls floors,and ceilings of such apartment shallbe at the owner's expense. - 13) Structural Changes.No structural changes of any type shall be permittedeitherwithinorwithoutanapartment,withoutprior written approval and consent of the Board orManaging Agentalso including anywindowsanddoors. ## 14) Maintenance Employees.\n",
      "- a)Themaintenanceemployeeswill useeveryefforttopolice the grounds effectively.Nonetheless,these employees are notavailableon24-hourdailybasis,andmuchbedevoted to maintenance andrepair.Accordingly,and in thepartand to usehisinfluenceon all membersofhishousehold todo their parttowardsabatingunsightlinesswithin theproject to the fullestpracticableextent. - b)MaintenanceemployeesoftheAssociationareunder the soledirectionof theBoard and/or theManagingAgent. During theprescribed hours ofworkthey shall in no case be diverted to theprivatebusinessoremploymentofany owner,occupantorguest.No employeeshall be asked by anownertoleavethecommonelements. - c)The Managing Agentshall not beresponsible forpersonal property or deliveries left in halls, service lockers, parking lot, office,atdoorsofapartmentsoranyotherplaceonthe premises,nor forany articleleftwith any employee. <!-- page_break -->\n",
      "\n",
      "- 15)Fire Eguipment.Anyone found tamperingwith the fire fighting equipmentwill besubjecttocriminal chargesand liableforall costs involved inrepairs,replacements,or damages caused to the building or personal property. lt is the responsibility for ownersand tenantstoinstall andmaintainsmokedetectorsand fire extinguishers toensure fire hazards arekept to a minimum insidetheapartment. ## F. PETS\n",
      "\n",
      "- 1)Permitted Pets.Only dogs,cats,fish and small birds may be kepton thepremises.Ownerand tenantsare limited toonepet. - 2)Breeding.Pets shall notbekept,bred orused for any commercialpurpose. - 3)Visitors.Visiting pets shall not be allowed on the premises. - 4)Exercise,etc.Petsshall notbe allowed outof the apartment or building unlessaccompaniedby theownerandon a leash(notto exceed four(4)feet inlength).Pets shall bewalked OFF THE PREMiSESoftheproject.Ownersshallcleanupaftertheirpets. - 5)Damage.Any personal injury orproperty damage to the apartmentbuildings,grounds,flooring,walls,trimfinish,tile stairs,orotherportionoftheprojectcausedbyapetwill bethe full responsibility of the owner.Any damage caused by cleaning, chemicals,orothersuchmaterialsused in theattempttoremedy damageisalsothefullresponsibilityofeachowner,whoshall pay thefull costofrestitution orremoval and/orreplacement of damageditems. - 6)Nuisance -Removal.Any pet which is a nuisance or causes unreasonabledisturbancetoanyresidentorcausesdamageto thebuildingorgroundsshallberemovedbythepet'sowneror occupantsof theapartmentinwhich thepetresidespromptly upon writtenrequest by the Board and/or the Managing Agent. Costsofboarding thepetshallbepaidbytheowner. RevisedandApproved by theBoardof DirectorsonFebruary 4,2008\n",
      "\n",
      "<!-- page_break -->\n",
      "\n",
      "## G. PARKINGAREAS\n",
      "\n",
      "- 1)Tenant'sParking.The apartmentowner shall advise the ManagingAgent inwriting of the typeofvehicle and license numberbeingusedby lesseeortenant.</chunk>\n"
     ]
    }
   ],
   "source": [
    "for chunk in chunk_tuples:\n",
    "    if chunk[0] == \"59e23eec-b77f-4441-9c87-16cb392ebdba_chunk_4\":\n",
    "        print(chunk[1])"
   ]
  },
  {
   "cell_type": "code",
   "execution_count": null,
   "id": "16fe5a29-cd9d-4a2f-abb1-42d1e4108d52",
   "metadata": {},
   "outputs": [],
   "source": []
  }
 ],
 "metadata": {
  "kernelspec": {
   "display_name": "TeamQuery Python Environment",
   "language": "python",
   "name": "teamquery-env"
  },
  "language_info": {
   "codemirror_mode": {
    "name": "ipython",
    "version": 3
   },
   "file_extension": ".py",
   "mimetype": "text/x-python",
   "name": "python",
   "nbconvert_exporter": "python",
   "pygments_lexer": "ipython3",
   "version": "3.12.10"
  }
 },
 "nbformat": 4,
 "nbformat_minor": 5
}
